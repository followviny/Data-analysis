{
  "cells": [
    {
      "cell_type": "markdown",
      "metadata": {
        "id": "view-in-github",
        "colab_type": "text"
      },
      "source": [
        "<a href=\"https://colab.research.google.com/github/followviny/Data-analysis/blob/main/practice2_ipynb%22.ipynb\" target=\"_parent\"><img src=\"https://colab.research.google.com/assets/colab-badge.svg\" alt=\"Open In Colab\"/></a>"
      ]
    },
    {
      "cell_type": "code",
      "execution_count": 1,
      "id": "154ad6fa",
      "metadata": {
        "id": "154ad6fa"
      },
      "outputs": [],
      "source": [
        "import numpy as np\n",
        "import pandas as pd\n",
        "\n",
        "from scipy import stats as sts\n",
        "\n",
        "import seaborn as sns\n",
        "import matplotlib.pyplot as plt"
      ]
    },
    {
      "cell_type": "markdown",
      "id": "b4a9c38f",
      "metadata": {
        "id": "b4a9c38f"
      },
      "source": [
        "## Задание 1 (рейтинги президентов)\n",
        "\n",
        "В таблице `presidents.csv` представлены рейтинги различных президентов США . Социальные опросы проводились раз в квартал. Опрашивалась случайная выборка граждан. У каждого спрашивалось одобряет ли он деятельность президента.\n",
        "\n",
        "Ричард Никсон был президентом США с 20 января 1969 года по 9 августа 1974 года. 17 июня 1972 года произошёл Уотергейтский скандал. Давайте проанализируем, что при этом произошло с его рейтингом."
      ]
    },
    {
      "cell_type": "code",
      "execution_count": 2,
      "id": "82891bdd",
      "metadata": {
        "id": "82891bdd",
        "colab": {
          "base_uri": "https://localhost:8080/",
          "height": 206
        },
        "outputId": "579b8698-191f-4aee-fd8f-291a8cccb3a0"
      },
      "outputs": [
        {
          "output_type": "execute_result",
          "data": {
            "text/plain": [
              "   year  Qtr1  Qtr2  Qtr3  Qtr4\n",
              "0  1945   NaN    87  82.0  75.0\n",
              "1  1946  63.0    50  43.0  32.0\n",
              "2  1947  35.0    60  54.0  55.0\n",
              "3  1948  36.0    39   NaN   NaN\n",
              "4  1949  69.0    57  57.0  51.0"
            ],
            "text/html": [
              "\n",
              "  <div id=\"df-d19fc303-eae5-442f-8127-efbb804fc175\" class=\"colab-df-container\">\n",
              "    <div>\n",
              "<style scoped>\n",
              "    .dataframe tbody tr th:only-of-type {\n",
              "        vertical-align: middle;\n",
              "    }\n",
              "\n",
              "    .dataframe tbody tr th {\n",
              "        vertical-align: top;\n",
              "    }\n",
              "\n",
              "    .dataframe thead th {\n",
              "        text-align: right;\n",
              "    }\n",
              "</style>\n",
              "<table border=\"1\" class=\"dataframe\">\n",
              "  <thead>\n",
              "    <tr style=\"text-align: right;\">\n",
              "      <th></th>\n",
              "      <th>year</th>\n",
              "      <th>Qtr1</th>\n",
              "      <th>Qtr2</th>\n",
              "      <th>Qtr3</th>\n",
              "      <th>Qtr4</th>\n",
              "    </tr>\n",
              "  </thead>\n",
              "  <tbody>\n",
              "    <tr>\n",
              "      <th>0</th>\n",
              "      <td>1945</td>\n",
              "      <td>NaN</td>\n",
              "      <td>87</td>\n",
              "      <td>82.0</td>\n",
              "      <td>75.0</td>\n",
              "    </tr>\n",
              "    <tr>\n",
              "      <th>1</th>\n",
              "      <td>1946</td>\n",
              "      <td>63.0</td>\n",
              "      <td>50</td>\n",
              "      <td>43.0</td>\n",
              "      <td>32.0</td>\n",
              "    </tr>\n",
              "    <tr>\n",
              "      <th>2</th>\n",
              "      <td>1947</td>\n",
              "      <td>35.0</td>\n",
              "      <td>60</td>\n",
              "      <td>54.0</td>\n",
              "      <td>55.0</td>\n",
              "    </tr>\n",
              "    <tr>\n",
              "      <th>3</th>\n",
              "      <td>1948</td>\n",
              "      <td>36.0</td>\n",
              "      <td>39</td>\n",
              "      <td>NaN</td>\n",
              "      <td>NaN</td>\n",
              "    </tr>\n",
              "    <tr>\n",
              "      <th>4</th>\n",
              "      <td>1949</td>\n",
              "      <td>69.0</td>\n",
              "      <td>57</td>\n",
              "      <td>57.0</td>\n",
              "      <td>51.0</td>\n",
              "    </tr>\n",
              "  </tbody>\n",
              "</table>\n",
              "</div>\n",
              "    <div class=\"colab-df-buttons\">\n",
              "\n",
              "  <div class=\"colab-df-container\">\n",
              "    <button class=\"colab-df-convert\" onclick=\"convertToInteractive('df-d19fc303-eae5-442f-8127-efbb804fc175')\"\n",
              "            title=\"Convert this dataframe to an interactive table.\"\n",
              "            style=\"display:none;\">\n",
              "\n",
              "  <svg xmlns=\"http://www.w3.org/2000/svg\" height=\"24px\" viewBox=\"0 -960 960 960\">\n",
              "    <path d=\"M120-120v-720h720v720H120Zm60-500h600v-160H180v160Zm220 220h160v-160H400v160Zm0 220h160v-160H400v160ZM180-400h160v-160H180v160Zm440 0h160v-160H620v160ZM180-180h160v-160H180v160Zm440 0h160v-160H620v160Z\"/>\n",
              "  </svg>\n",
              "    </button>\n",
              "\n",
              "  <style>\n",
              "    .colab-df-container {\n",
              "      display:flex;\n",
              "      gap: 12px;\n",
              "    }\n",
              "\n",
              "    .colab-df-convert {\n",
              "      background-color: #E8F0FE;\n",
              "      border: none;\n",
              "      border-radius: 50%;\n",
              "      cursor: pointer;\n",
              "      display: none;\n",
              "      fill: #1967D2;\n",
              "      height: 32px;\n",
              "      padding: 0 0 0 0;\n",
              "      width: 32px;\n",
              "    }\n",
              "\n",
              "    .colab-df-convert:hover {\n",
              "      background-color: #E2EBFA;\n",
              "      box-shadow: 0px 1px 2px rgba(60, 64, 67, 0.3), 0px 1px 3px 1px rgba(60, 64, 67, 0.15);\n",
              "      fill: #174EA6;\n",
              "    }\n",
              "\n",
              "    .colab-df-buttons div {\n",
              "      margin-bottom: 4px;\n",
              "    }\n",
              "\n",
              "    [theme=dark] .colab-df-convert {\n",
              "      background-color: #3B4455;\n",
              "      fill: #D2E3FC;\n",
              "    }\n",
              "\n",
              "    [theme=dark] .colab-df-convert:hover {\n",
              "      background-color: #434B5C;\n",
              "      box-shadow: 0px 1px 3px 1px rgba(0, 0, 0, 0.15);\n",
              "      filter: drop-shadow(0px 1px 2px rgba(0, 0, 0, 0.3));\n",
              "      fill: #FFFFFF;\n",
              "    }\n",
              "  </style>\n",
              "\n",
              "    <script>\n",
              "      const buttonEl =\n",
              "        document.querySelector('#df-d19fc303-eae5-442f-8127-efbb804fc175 button.colab-df-convert');\n",
              "      buttonEl.style.display =\n",
              "        google.colab.kernel.accessAllowed ? 'block' : 'none';\n",
              "\n",
              "      async function convertToInteractive(key) {\n",
              "        const element = document.querySelector('#df-d19fc303-eae5-442f-8127-efbb804fc175');\n",
              "        const dataTable =\n",
              "          await google.colab.kernel.invokeFunction('convertToInteractive',\n",
              "                                                    [key], {});\n",
              "        if (!dataTable) return;\n",
              "\n",
              "        const docLinkHtml = 'Like what you see? Visit the ' +\n",
              "          '<a target=\"_blank\" href=https://colab.research.google.com/notebooks/data_table.ipynb>data table notebook</a>'\n",
              "          + ' to learn more about interactive tables.';\n",
              "        element.innerHTML = '';\n",
              "        dataTable['output_type'] = 'display_data';\n",
              "        await google.colab.output.renderOutput(dataTable, element);\n",
              "        const docLink = document.createElement('div');\n",
              "        docLink.innerHTML = docLinkHtml;\n",
              "        element.appendChild(docLink);\n",
              "      }\n",
              "    </script>\n",
              "  </div>\n",
              "\n",
              "\n",
              "<div id=\"df-30f8f4ad-5468-4ae3-a920-99b0aa605aa8\">\n",
              "  <button class=\"colab-df-quickchart\" onclick=\"quickchart('df-30f8f4ad-5468-4ae3-a920-99b0aa605aa8')\"\n",
              "            title=\"Suggest charts\"\n",
              "            style=\"display:none;\">\n",
              "\n",
              "<svg xmlns=\"http://www.w3.org/2000/svg\" height=\"24px\"viewBox=\"0 0 24 24\"\n",
              "     width=\"24px\">\n",
              "    <g>\n",
              "        <path d=\"M19 3H5c-1.1 0-2 .9-2 2v14c0 1.1.9 2 2 2h14c1.1 0 2-.9 2-2V5c0-1.1-.9-2-2-2zM9 17H7v-7h2v7zm4 0h-2V7h2v10zm4 0h-2v-4h2v4z\"/>\n",
              "    </g>\n",
              "</svg>\n",
              "  </button>\n",
              "\n",
              "<style>\n",
              "  .colab-df-quickchart {\n",
              "      --bg-color: #E8F0FE;\n",
              "      --fill-color: #1967D2;\n",
              "      --hover-bg-color: #E2EBFA;\n",
              "      --hover-fill-color: #174EA6;\n",
              "      --disabled-fill-color: #AAA;\n",
              "      --disabled-bg-color: #DDD;\n",
              "  }\n",
              "\n",
              "  [theme=dark] .colab-df-quickchart {\n",
              "      --bg-color: #3B4455;\n",
              "      --fill-color: #D2E3FC;\n",
              "      --hover-bg-color: #434B5C;\n",
              "      --hover-fill-color: #FFFFFF;\n",
              "      --disabled-bg-color: #3B4455;\n",
              "      --disabled-fill-color: #666;\n",
              "  }\n",
              "\n",
              "  .colab-df-quickchart {\n",
              "    background-color: var(--bg-color);\n",
              "    border: none;\n",
              "    border-radius: 50%;\n",
              "    cursor: pointer;\n",
              "    display: none;\n",
              "    fill: var(--fill-color);\n",
              "    height: 32px;\n",
              "    padding: 0;\n",
              "    width: 32px;\n",
              "  }\n",
              "\n",
              "  .colab-df-quickchart:hover {\n",
              "    background-color: var(--hover-bg-color);\n",
              "    box-shadow: 0 1px 2px rgba(60, 64, 67, 0.3), 0 1px 3px 1px rgba(60, 64, 67, 0.15);\n",
              "    fill: var(--button-hover-fill-color);\n",
              "  }\n",
              "\n",
              "  .colab-df-quickchart-complete:disabled,\n",
              "  .colab-df-quickchart-complete:disabled:hover {\n",
              "    background-color: var(--disabled-bg-color);\n",
              "    fill: var(--disabled-fill-color);\n",
              "    box-shadow: none;\n",
              "  }\n",
              "\n",
              "  .colab-df-spinner {\n",
              "    border: 2px solid var(--fill-color);\n",
              "    border-color: transparent;\n",
              "    border-bottom-color: var(--fill-color);\n",
              "    animation:\n",
              "      spin 1s steps(1) infinite;\n",
              "  }\n",
              "\n",
              "  @keyframes spin {\n",
              "    0% {\n",
              "      border-color: transparent;\n",
              "      border-bottom-color: var(--fill-color);\n",
              "      border-left-color: var(--fill-color);\n",
              "    }\n",
              "    20% {\n",
              "      border-color: transparent;\n",
              "      border-left-color: var(--fill-color);\n",
              "      border-top-color: var(--fill-color);\n",
              "    }\n",
              "    30% {\n",
              "      border-color: transparent;\n",
              "      border-left-color: var(--fill-color);\n",
              "      border-top-color: var(--fill-color);\n",
              "      border-right-color: var(--fill-color);\n",
              "    }\n",
              "    40% {\n",
              "      border-color: transparent;\n",
              "      border-right-color: var(--fill-color);\n",
              "      border-top-color: var(--fill-color);\n",
              "    }\n",
              "    60% {\n",
              "      border-color: transparent;\n",
              "      border-right-color: var(--fill-color);\n",
              "    }\n",
              "    80% {\n",
              "      border-color: transparent;\n",
              "      border-right-color: var(--fill-color);\n",
              "      border-bottom-color: var(--fill-color);\n",
              "    }\n",
              "    90% {\n",
              "      border-color: transparent;\n",
              "      border-bottom-color: var(--fill-color);\n",
              "    }\n",
              "  }\n",
              "</style>\n",
              "\n",
              "  <script>\n",
              "    async function quickchart(key) {\n",
              "      const quickchartButtonEl =\n",
              "        document.querySelector('#' + key + ' button');\n",
              "      quickchartButtonEl.disabled = true;  // To prevent multiple clicks.\n",
              "      quickchartButtonEl.classList.add('colab-df-spinner');\n",
              "      try {\n",
              "        const charts = await google.colab.kernel.invokeFunction(\n",
              "            'suggestCharts', [key], {});\n",
              "      } catch (error) {\n",
              "        console.error('Error during call to suggestCharts:', error);\n",
              "      }\n",
              "      quickchartButtonEl.classList.remove('colab-df-spinner');\n",
              "      quickchartButtonEl.classList.add('colab-df-quickchart-complete');\n",
              "    }\n",
              "    (() => {\n",
              "      let quickchartButtonEl =\n",
              "        document.querySelector('#df-30f8f4ad-5468-4ae3-a920-99b0aa605aa8 button');\n",
              "      quickchartButtonEl.style.display =\n",
              "        google.colab.kernel.accessAllowed ? 'block' : 'none';\n",
              "    })();\n",
              "  </script>\n",
              "</div>\n",
              "    </div>\n",
              "  </div>\n"
            ],
            "application/vnd.google.colaboratory.intrinsic+json": {
              "type": "dataframe",
              "variable_name": "df",
              "summary": "{\n  \"name\": \"df\",\n  \"rows\": 30,\n  \"fields\": [\n    {\n      \"column\": \"year\",\n      \"properties\": {\n        \"dtype\": \"number\",\n        \"std\": 8,\n        \"min\": 1945,\n        \"max\": 1974,\n        \"num_unique_values\": 30,\n        \"samples\": [\n          1972,\n          1960,\n          1968\n        ],\n        \"semantic_type\": \"\",\n        \"description\": \"\"\n      }\n    },\n    {\n      \"column\": \"Qtr1\",\n      \"properties\": {\n        \"dtype\": \"number\",\n        \"std\": 16.569305112803683,\n        \"min\": 25.0,\n        \"max\": 80.0,\n        \"num_unique_values\": 20,\n        \"samples\": [\n          63.0,\n          49.0,\n          66.0\n        ],\n        \"semantic_type\": \"\",\n        \"description\": \"\"\n      }\n    },\n    {\n      \"column\": \"Qtr2\",\n      \"properties\": {\n        \"dtype\": \"number\",\n        \"std\": 15,\n        \"min\": 24,\n        \"max\": 87,\n        \"num_unique_values\": 24,\n        \"samples\": [\n          74,\n          73,\n          87\n        ],\n        \"semantic_type\": \"\",\n        \"description\": \"\"\n      }\n    },\n    {\n      \"column\": \"Qtr3\",\n      \"properties\": {\n        \"dtype\": \"number\",\n        \"std\": 14.77350365540992,\n        \"min\": 24.0,\n        \"max\": 82.0,\n        \"num_unique_values\": 21,\n        \"samples\": [\n          82.0,\n          35.0,\n          56.0\n        ],\n        \"semantic_type\": \"\",\n        \"description\": \"\"\n      }\n    },\n    {\n      \"column\": \"Qtr4\",\n      \"properties\": {\n        \"dtype\": \"number\",\n        \"std\": 15.862671232309475,\n        \"min\": 23.0,\n        \"max\": 78.0,\n        \"num_unique_values\": 21,\n        \"samples\": [\n          75.0,\n          56.0,\n          44.0\n        ],\n        \"semantic_type\": \"\",\n        \"description\": \"\"\n      }\n    }\n  ]\n}"
            }
          },
          "metadata": {},
          "execution_count": 2
        }
      ],
      "source": [
        "df = pd.read_csv('https://raw.githubusercontent.com/aiedu-courses/all_datasets/main/presidents.csv')\n",
        "df.head()"
      ]
    },
    {
      "cell_type": "markdown",
      "id": "c87d176d",
      "metadata": {
        "id": "c87d176d"
      },
      "source": [
        "Чтобы привести таблицу к удобному виду используйте функцию `pd.melt`. Вытащите из таблички рейтинг Никсона с 1 квартала 1969 года по 2 квартал 1972 года (включая его). Запишите эти данные в переменную `x`. Рейтинг с 3 квартала 1972 года по 2 квартал 1974 года поместите в переменную `y`. Пропуски в данных удалите из выборки."
      ]
    },
    {
      "cell_type": "code",
      "execution_count": 3,
      "id": "abcb7a68",
      "metadata": {
        "id": "abcb7a68",
        "colab": {
          "base_uri": "https://localhost:8080/"
        },
        "outputId": "a8d96fa8-56e2-45bd-cf52-71e8d25f4020"
      },
      "outputs": [
        {
          "output_type": "stream",
          "name": "stdout",
          "text": [
            "[59. 66. 51. 49. 65. 53. 48. 61. 65. 61. 54. 56. 52. 49.]\n",
            "[68. 28. 44. 25. 40. 27.]\n"
          ]
        }
      ],
      "source": [
        "df = pd.melt(df, id_vars=['year'], value_vars=['Qtr1', 'Qtr2', 'Qtr3', 'Qtr4'],\n",
        "                  var_name='quarter', value_name='rating')\n",
        "\n",
        "df = df.dropna()\n",
        "\n",
        "quarter_mapping = {'Qtr1': 1, 'Qtr2': 2, 'Qtr3': 3, 'Qtr4': 4}\n",
        "df['quarter'] = df['quarter'].map(quarter_mapping)\n",
        "\n",
        "x = df[(df['year'] == 1969) & (df['quarter'] >= 1) |\n",
        "            (df['year'] == 1970) |\n",
        "            (df['year'] == 1971) |\n",
        "            (df['year'] == 1972) & (df['quarter'] <= 2)]['rating']\n",
        "\n",
        "y = df[(df['year'] == 1972) & (df['quarter'] >= 3) |\n",
        "            (df['year'] == 1973) |\n",
        "            (df['year'] == 1974) & (df['quarter'] <= 2)]['rating']\n",
        "\n",
        "x = x.values\n",
        "y = y.values\n",
        "\n",
        "print(x)\n",
        "print(y)\n"
      ]
    },
    {
      "cell_type": "code",
      "source": [
        "print(x.mean())\n",
        "print(y.mean())"
      ],
      "metadata": {
        "id": "FONhc68SPVmv",
        "colab": {
          "base_uri": "https://localhost:8080/"
        },
        "outputId": "f29abe4e-cd0f-4c31-8f67-92345fa99fde"
      },
      "id": "FONhc68SPVmv",
      "execution_count": 4,
      "outputs": [
        {
          "output_type": "stream",
          "name": "stdout",
          "text": [
            "56.357142857142854\n",
            "38.666666666666664\n"
          ]
        }
      ]
    },
    {
      "cell_type": "markdown",
      "id": "fd439aca",
      "metadata": {
        "id": "fd439aca"
      },
      "source": [
        "Правда ли, что после скандала средний рейтинг Никсона рухнул? Предполагайте, что рейтинг распределён нормально, а также, что дисперсия рейтинга не изменилась из-за скандала. Наблюдаемое значение статистики запишите в переменную `obs`, в переменную `pval` запишите $p$-значение."
      ]
    },
    {
      "cell_type": "markdown",
      "source": [
        "**Гипотеза**: \\\\\n",
        "Нулевая гипотеза (H0): Средний рейтинг Никсона до скандала равен среднему рейтингу после скандала. \\\\\n",
        "Альтернативная гипотеза (H1): Средний рейтинг Никсона после скандала ниже среднего рейтинга до скандала. \\\\\n",
        "Данные имеют нормальное распределение, и число наблюдений мало, наша задача - сравнить средние значения рейтингов до и после определенной даты, дисперсия одинаковая -> будем использовать **односторонний(тк предполагаем что после скандала он упал) t-тест Стьюдента для проверки гипотезы о равенстве средних.**"
      ],
      "metadata": {
        "id": "jcHqpe7LQ7rm"
      },
      "id": "jcHqpe7LQ7rm"
    },
    {
      "cell_type": "code",
      "execution_count": 5,
      "id": "0a597358",
      "metadata": {
        "id": "0a597358",
        "colab": {
          "base_uri": "https://localhost:8080/"
        },
        "outputId": "96b4ec01-4fef-4bb5-f43c-1a7fba7b1575"
      },
      "outputs": [
        {
          "output_type": "stream",
          "name": "stdout",
          "text": [
            "Observed value: 3.5640741313229793\n",
            "P-value: 0.0011087344846424454\n",
            "Отвергаем нулевую гипотезу: Средний рейтинг Никсона снизился после Уотергейтского скандала.\n"
          ]
        }
      ],
      "source": [
        "obs, pval = sts.ttest_ind(x, y, equal_var=True, alternative='greater')\n",
        "\n",
        "print(f\"Observed value: {obs}\")\n",
        "print(f\"P-value: {pval}\")\n",
        "\n",
        "alpha = 0.05\n",
        "if pval < alpha:\n",
        "    print(\"Отвергаем нулевую гипотезу: Средний рейтинг Никсона снизился после Уотергейтского скандала.\")\n",
        "else:\n",
        "    print(\"Мы не можем отвергнуть нулевую гипотезу: нет значимого различия в среднем рейтинге Никсона до и после скандала.\")\n"
      ]
    },
    {
      "cell_type": "code",
      "execution_count": 6,
      "id": "e034f76c",
      "metadata": {
        "id": "e034f76c"
      },
      "outputs": [],
      "source": [
        "# небольшая самопроверка\n",
        "assert np.abs(obs - 3.5640741313229793) < 1e-5"
      ]
    },
    {
      "cell_type": "markdown",
      "source": [
        "**Выводы**:\n",
        "Так как p-значение меньше уровня значимости, мы отвергаем нулевую гипотезу. Используя $5\\%$ уровень значимости мы выяснили, что есть статистически значимые доказательства того, что средний рейтинг Никсона снизился после Уотергейтского скандала. \\\\\n",
        "Мы можем заключить, что Уотергейтский скандал оказал негативное влияние на рейтинг одобрения президента Ричарда Никсона. Средний рейтинг значительно снизился после скандала, что подтверждается статистически значимыми результатами t-теста."
      ],
      "metadata": {
        "id": "qOyTQRVaR5P6"
      },
      "id": "qOyTQRVaR5P6"
    },
    {
      "cell_type": "markdown",
      "id": "b5d0253f",
      "metadata": {
        "id": "b5d0253f"
      },
      "source": [
        "Снова президентом Никсон станет в $3000$ году.\n",
        "\n",
        "![](https://vignette.wikia.nocookie.net/futurama/images/2/2f/Richard_M._Nixon%27s_head.jpg/revision/latest/scale-to-width-down/250?cb=20131123190522&path-prefix=ru)"
      ]
    },
    {
      "cell_type": "markdown",
      "id": "3ead1a50",
      "metadata": {
        "id": "3ead1a50"
      },
      "source": [
        "## Задание 2 (доктор сон)\n",
        "\n",
        "Проводится эксперимент о пользе нового снотворного. Для его проведения используется группа из $10$ студентов. В первый день каждый из них ложится спать. На утро измеряется, сколько он проспал. Из результата вычитают $8$ (нормальное число часов сна). На второй день каждому дают таблетку. Утром снова измеряют, сколько человек проспал, и вычитают $8$. Результаты эксперимента записаны в табличку `sleep.csv`."
      ]
    },
    {
      "cell_type": "code",
      "execution_count": 7,
      "id": "e6be5698",
      "metadata": {
        "id": "e6be5698",
        "colab": {
          "base_uri": "https://localhost:8080/",
          "height": 206
        },
        "outputId": "aa808851-468d-43b8-b19b-479df956e3a0"
      },
      "outputs": [
        {
          "output_type": "execute_result",
          "data": {
            "text/plain": [
              "   extra  group  ID\n",
              "0    0.7      1   1\n",
              "1   -1.6      1   2\n",
              "2   -0.2      1   3\n",
              "3   -1.2      1   4\n",
              "4   -0.1      1   5"
            ],
            "text/html": [
              "\n",
              "  <div id=\"df-f0a4e228-5c29-498f-85ca-e0285d7494d0\" class=\"colab-df-container\">\n",
              "    <div>\n",
              "<style scoped>\n",
              "    .dataframe tbody tr th:only-of-type {\n",
              "        vertical-align: middle;\n",
              "    }\n",
              "\n",
              "    .dataframe tbody tr th {\n",
              "        vertical-align: top;\n",
              "    }\n",
              "\n",
              "    .dataframe thead th {\n",
              "        text-align: right;\n",
              "    }\n",
              "</style>\n",
              "<table border=\"1\" class=\"dataframe\">\n",
              "  <thead>\n",
              "    <tr style=\"text-align: right;\">\n",
              "      <th></th>\n",
              "      <th>extra</th>\n",
              "      <th>group</th>\n",
              "      <th>ID</th>\n",
              "    </tr>\n",
              "  </thead>\n",
              "  <tbody>\n",
              "    <tr>\n",
              "      <th>0</th>\n",
              "      <td>0.7</td>\n",
              "      <td>1</td>\n",
              "      <td>1</td>\n",
              "    </tr>\n",
              "    <tr>\n",
              "      <th>1</th>\n",
              "      <td>-1.6</td>\n",
              "      <td>1</td>\n",
              "      <td>2</td>\n",
              "    </tr>\n",
              "    <tr>\n",
              "      <th>2</th>\n",
              "      <td>-0.2</td>\n",
              "      <td>1</td>\n",
              "      <td>3</td>\n",
              "    </tr>\n",
              "    <tr>\n",
              "      <th>3</th>\n",
              "      <td>-1.2</td>\n",
              "      <td>1</td>\n",
              "      <td>4</td>\n",
              "    </tr>\n",
              "    <tr>\n",
              "      <th>4</th>\n",
              "      <td>-0.1</td>\n",
              "      <td>1</td>\n",
              "      <td>5</td>\n",
              "    </tr>\n",
              "  </tbody>\n",
              "</table>\n",
              "</div>\n",
              "    <div class=\"colab-df-buttons\">\n",
              "\n",
              "  <div class=\"colab-df-container\">\n",
              "    <button class=\"colab-df-convert\" onclick=\"convertToInteractive('df-f0a4e228-5c29-498f-85ca-e0285d7494d0')\"\n",
              "            title=\"Convert this dataframe to an interactive table.\"\n",
              "            style=\"display:none;\">\n",
              "\n",
              "  <svg xmlns=\"http://www.w3.org/2000/svg\" height=\"24px\" viewBox=\"0 -960 960 960\">\n",
              "    <path d=\"M120-120v-720h720v720H120Zm60-500h600v-160H180v160Zm220 220h160v-160H400v160Zm0 220h160v-160H400v160ZM180-400h160v-160H180v160Zm440 0h160v-160H620v160ZM180-180h160v-160H180v160Zm440 0h160v-160H620v160Z\"/>\n",
              "  </svg>\n",
              "    </button>\n",
              "\n",
              "  <style>\n",
              "    .colab-df-container {\n",
              "      display:flex;\n",
              "      gap: 12px;\n",
              "    }\n",
              "\n",
              "    .colab-df-convert {\n",
              "      background-color: #E8F0FE;\n",
              "      border: none;\n",
              "      border-radius: 50%;\n",
              "      cursor: pointer;\n",
              "      display: none;\n",
              "      fill: #1967D2;\n",
              "      height: 32px;\n",
              "      padding: 0 0 0 0;\n",
              "      width: 32px;\n",
              "    }\n",
              "\n",
              "    .colab-df-convert:hover {\n",
              "      background-color: #E2EBFA;\n",
              "      box-shadow: 0px 1px 2px rgba(60, 64, 67, 0.3), 0px 1px 3px 1px rgba(60, 64, 67, 0.15);\n",
              "      fill: #174EA6;\n",
              "    }\n",
              "\n",
              "    .colab-df-buttons div {\n",
              "      margin-bottom: 4px;\n",
              "    }\n",
              "\n",
              "    [theme=dark] .colab-df-convert {\n",
              "      background-color: #3B4455;\n",
              "      fill: #D2E3FC;\n",
              "    }\n",
              "\n",
              "    [theme=dark] .colab-df-convert:hover {\n",
              "      background-color: #434B5C;\n",
              "      box-shadow: 0px 1px 3px 1px rgba(0, 0, 0, 0.15);\n",
              "      filter: drop-shadow(0px 1px 2px rgba(0, 0, 0, 0.3));\n",
              "      fill: #FFFFFF;\n",
              "    }\n",
              "  </style>\n",
              "\n",
              "    <script>\n",
              "      const buttonEl =\n",
              "        document.querySelector('#df-f0a4e228-5c29-498f-85ca-e0285d7494d0 button.colab-df-convert');\n",
              "      buttonEl.style.display =\n",
              "        google.colab.kernel.accessAllowed ? 'block' : 'none';\n",
              "\n",
              "      async function convertToInteractive(key) {\n",
              "        const element = document.querySelector('#df-f0a4e228-5c29-498f-85ca-e0285d7494d0');\n",
              "        const dataTable =\n",
              "          await google.colab.kernel.invokeFunction('convertToInteractive',\n",
              "                                                    [key], {});\n",
              "        if (!dataTable) return;\n",
              "\n",
              "        const docLinkHtml = 'Like what you see? Visit the ' +\n",
              "          '<a target=\"_blank\" href=https://colab.research.google.com/notebooks/data_table.ipynb>data table notebook</a>'\n",
              "          + ' to learn more about interactive tables.';\n",
              "        element.innerHTML = '';\n",
              "        dataTable['output_type'] = 'display_data';\n",
              "        await google.colab.output.renderOutput(dataTable, element);\n",
              "        const docLink = document.createElement('div');\n",
              "        docLink.innerHTML = docLinkHtml;\n",
              "        element.appendChild(docLink);\n",
              "      }\n",
              "    </script>\n",
              "  </div>\n",
              "\n",
              "\n",
              "<div id=\"df-2b5ffaf6-0119-49ad-a045-4c4a51d30190\">\n",
              "  <button class=\"colab-df-quickchart\" onclick=\"quickchart('df-2b5ffaf6-0119-49ad-a045-4c4a51d30190')\"\n",
              "            title=\"Suggest charts\"\n",
              "            style=\"display:none;\">\n",
              "\n",
              "<svg xmlns=\"http://www.w3.org/2000/svg\" height=\"24px\"viewBox=\"0 0 24 24\"\n",
              "     width=\"24px\">\n",
              "    <g>\n",
              "        <path d=\"M19 3H5c-1.1 0-2 .9-2 2v14c0 1.1.9 2 2 2h14c1.1 0 2-.9 2-2V5c0-1.1-.9-2-2-2zM9 17H7v-7h2v7zm4 0h-2V7h2v10zm4 0h-2v-4h2v4z\"/>\n",
              "    </g>\n",
              "</svg>\n",
              "  </button>\n",
              "\n",
              "<style>\n",
              "  .colab-df-quickchart {\n",
              "      --bg-color: #E8F0FE;\n",
              "      --fill-color: #1967D2;\n",
              "      --hover-bg-color: #E2EBFA;\n",
              "      --hover-fill-color: #174EA6;\n",
              "      --disabled-fill-color: #AAA;\n",
              "      --disabled-bg-color: #DDD;\n",
              "  }\n",
              "\n",
              "  [theme=dark] .colab-df-quickchart {\n",
              "      --bg-color: #3B4455;\n",
              "      --fill-color: #D2E3FC;\n",
              "      --hover-bg-color: #434B5C;\n",
              "      --hover-fill-color: #FFFFFF;\n",
              "      --disabled-bg-color: #3B4455;\n",
              "      --disabled-fill-color: #666;\n",
              "  }\n",
              "\n",
              "  .colab-df-quickchart {\n",
              "    background-color: var(--bg-color);\n",
              "    border: none;\n",
              "    border-radius: 50%;\n",
              "    cursor: pointer;\n",
              "    display: none;\n",
              "    fill: var(--fill-color);\n",
              "    height: 32px;\n",
              "    padding: 0;\n",
              "    width: 32px;\n",
              "  }\n",
              "\n",
              "  .colab-df-quickchart:hover {\n",
              "    background-color: var(--hover-bg-color);\n",
              "    box-shadow: 0 1px 2px rgba(60, 64, 67, 0.3), 0 1px 3px 1px rgba(60, 64, 67, 0.15);\n",
              "    fill: var(--button-hover-fill-color);\n",
              "  }\n",
              "\n",
              "  .colab-df-quickchart-complete:disabled,\n",
              "  .colab-df-quickchart-complete:disabled:hover {\n",
              "    background-color: var(--disabled-bg-color);\n",
              "    fill: var(--disabled-fill-color);\n",
              "    box-shadow: none;\n",
              "  }\n",
              "\n",
              "  .colab-df-spinner {\n",
              "    border: 2px solid var(--fill-color);\n",
              "    border-color: transparent;\n",
              "    border-bottom-color: var(--fill-color);\n",
              "    animation:\n",
              "      spin 1s steps(1) infinite;\n",
              "  }\n",
              "\n",
              "  @keyframes spin {\n",
              "    0% {\n",
              "      border-color: transparent;\n",
              "      border-bottom-color: var(--fill-color);\n",
              "      border-left-color: var(--fill-color);\n",
              "    }\n",
              "    20% {\n",
              "      border-color: transparent;\n",
              "      border-left-color: var(--fill-color);\n",
              "      border-top-color: var(--fill-color);\n",
              "    }\n",
              "    30% {\n",
              "      border-color: transparent;\n",
              "      border-left-color: var(--fill-color);\n",
              "      border-top-color: var(--fill-color);\n",
              "      border-right-color: var(--fill-color);\n",
              "    }\n",
              "    40% {\n",
              "      border-color: transparent;\n",
              "      border-right-color: var(--fill-color);\n",
              "      border-top-color: var(--fill-color);\n",
              "    }\n",
              "    60% {\n",
              "      border-color: transparent;\n",
              "      border-right-color: var(--fill-color);\n",
              "    }\n",
              "    80% {\n",
              "      border-color: transparent;\n",
              "      border-right-color: var(--fill-color);\n",
              "      border-bottom-color: var(--fill-color);\n",
              "    }\n",
              "    90% {\n",
              "      border-color: transparent;\n",
              "      border-bottom-color: var(--fill-color);\n",
              "    }\n",
              "  }\n",
              "</style>\n",
              "\n",
              "  <script>\n",
              "    async function quickchart(key) {\n",
              "      const quickchartButtonEl =\n",
              "        document.querySelector('#' + key + ' button');\n",
              "      quickchartButtonEl.disabled = true;  // To prevent multiple clicks.\n",
              "      quickchartButtonEl.classList.add('colab-df-spinner');\n",
              "      try {\n",
              "        const charts = await google.colab.kernel.invokeFunction(\n",
              "            'suggestCharts', [key], {});\n",
              "      } catch (error) {\n",
              "        console.error('Error during call to suggestCharts:', error);\n",
              "      }\n",
              "      quickchartButtonEl.classList.remove('colab-df-spinner');\n",
              "      quickchartButtonEl.classList.add('colab-df-quickchart-complete');\n",
              "    }\n",
              "    (() => {\n",
              "      let quickchartButtonEl =\n",
              "        document.querySelector('#df-2b5ffaf6-0119-49ad-a045-4c4a51d30190 button');\n",
              "      quickchartButtonEl.style.display =\n",
              "        google.colab.kernel.accessAllowed ? 'block' : 'none';\n",
              "    })();\n",
              "  </script>\n",
              "</div>\n",
              "    </div>\n",
              "  </div>\n"
            ],
            "application/vnd.google.colaboratory.intrinsic+json": {
              "type": "dataframe",
              "variable_name": "df",
              "summary": "{\n  \"name\": \"df\",\n  \"rows\": 20,\n  \"fields\": [\n    {\n      \"column\": \"extra\",\n      \"properties\": {\n        \"dtype\": \"number\",\n        \"std\": 2.0179197209007103,\n        \"min\": -1.6,\n        \"max\": 5.5,\n        \"num_unique_values\": 17,\n        \"samples\": [\n          0.7,\n          -1.6,\n          3.4\n        ],\n        \"semantic_type\": \"\",\n        \"description\": \"\"\n      }\n    },\n    {\n      \"column\": \"group\",\n      \"properties\": {\n        \"dtype\": \"number\",\n        \"std\": 0,\n        \"min\": 1,\n        \"max\": 2,\n        \"num_unique_values\": 2,\n        \"samples\": [\n          2,\n          1\n        ],\n        \"semantic_type\": \"\",\n        \"description\": \"\"\n      }\n    },\n    {\n      \"column\": \"ID\",\n      \"properties\": {\n        \"dtype\": \"number\",\n        \"std\": 2,\n        \"min\": 1,\n        \"max\": 10,\n        \"num_unique_values\": 10,\n        \"samples\": [\n          9,\n          2\n        ],\n        \"semantic_type\": \"\",\n        \"description\": \"\"\n      }\n    }\n  ]\n}"
            }
          },
          "metadata": {},
          "execution_count": 7
        }
      ],
      "source": [
        "df = pd.read_csv('https://raw.githubusercontent.com/aiedu-courses/all_datasets/main/sleep.csv')\n",
        "df.head()"
      ]
    },
    {
      "cell_type": "markdown",
      "id": "563eb4c7",
      "metadata": {
        "id": "563eb4c7"
      },
      "source": [
        "Правда ли, что сон студентов до приёма снотворного не отличается от нормы (отклонение от 8 часов равно нулю). Проверьте эту гипотезу на $5\\%$ уровне значимости, в переменную `pval1` запишите p-значение."
      ]
    },
    {
      "cell_type": "markdown",
      "source": [
        "**Гипотеза:** \\\\\n",
        "Нулевая гипотеза (H0): Среднее отклонение от нормы сна до приёма снотворного равно нулю. \\\\\n",
        "Альтернативная гипотеза (H1): Среднее отклонение отличается от нуля. \\\\\n",
        "Поскольку мы проверяем отклонение от определённого значения, а выборка мала и нормально распределена(проверка внизу), используем **t-тест для одной выборки**."
      ],
      "metadata": {
        "id": "QABk9uKKZApd"
      },
      "id": "QABk9uKKZApd"
    },
    {
      "cell_type": "code",
      "source": [
        "group1 = df[df['group'] == 1]['extra']\n",
        "group2 = df[df['group'] == 2]['extra']"
      ],
      "metadata": {
        "id": "g-XqxxsYYwc4"
      },
      "id": "g-XqxxsYYwc4",
      "execution_count": 8,
      "outputs": []
    },
    {
      "cell_type": "code",
      "source": [
        "# Проверка нормальности с использованием теста Шапиро-Уилка\n",
        "shapiro_test_group1 = sts.shapiro(group1)\n",
        "shapiro_test_group2 = sts.shapiro(group2)\n",
        "\n",
        "print(f\"Шапиро-Уилк тест для группы 1 (до приема): p-value = {shapiro_test_group1.pvalue}\")\n",
        "if shapiro_test_group1.pvalue > 0.05:\n",
        "    print(\"Распределение данных в группе 1 нормально.\")\n",
        "else:\n",
        "    print(\"Распределение данных в группе 1 ненормально.\")\n",
        "\n",
        "print(f\"Шапиро-Уилк тест для группы 2 (после приема): p-value = {shapiro_test_group2.pvalue}\")\n",
        "if shapiro_test_group2.pvalue > 0.05:\n",
        "    print(\"Распределение данных в группе 2 нормально.\")\n",
        "else:\n",
        "    print(\"Распределение данных в группе 2 ненормально.\")\n"
      ],
      "metadata": {
        "id": "Tt830Nz0ZINH",
        "colab": {
          "base_uri": "https://localhost:8080/"
        },
        "outputId": "dd192bc2-a8b1-443a-bb58-0f22a04256d5"
      },
      "id": "Tt830Nz0ZINH",
      "execution_count": 9,
      "outputs": [
        {
          "output_type": "stream",
          "name": "stdout",
          "text": [
            "Шапиро-Уилк тест для группы 1 (до приема): p-value = 0.4079287935393071\n",
            "Распределение данных в группе 1 нормально.\n",
            "Шапиро-Уилк тест для группы 2 (после приема): p-value = 0.35113468473328946\n",
            "Распределение данных в группе 2 нормально.\n"
          ]
        }
      ]
    },
    {
      "cell_type": "code",
      "execution_count": 10,
      "id": "77ef90e5",
      "metadata": {
        "id": "77ef90e5",
        "colab": {
          "base_uri": "https://localhost:8080/"
        },
        "outputId": "91fc31fa-d8fb-453f-e96b-426d915985b0"
      },
      "outputs": [
        {
          "output_type": "stream",
          "name": "stdout",
          "text": [
            "T-статистика для проверки нулевой гипотезы (группа 1): 1.3257101407138212\n",
            "P-значение: 0.2175977800684489\n",
            "Мы не можем отвергнуть нулевую гипотезу: среднее отклонение от 8 часов сна не отличается от нуля.\n"
          ]
        }
      ],
      "source": [
        "tobs1, pval1 = sts.ttest_1samp(group1, 0)\n",
        "print(f\"T-статистика для проверки нулевой гипотезы (группа 1): {tobs1}\")\n",
        "print(f\"P-значение: {pval1}\")\n",
        "if pval1 < 0.05:\n",
        "    print(\"Мы отвергаем нулевую гипотезу: среднее отклонение от 8 часов сна значимо отличается от нуля.\")\n",
        "else:\n",
        "    print(\"Мы не можем отвергнуть нулевую гипотезу: среднее отклонение от 8 часов сна не отличается от нуля.\")\n"
      ]
    },
    {
      "cell_type": "markdown",
      "source": [
        "**Вывод**: \\\\\n",
        "При уровне значимости α = 0.05, p-значение значительно больше α. Это означает, что мы не отвергаем нулевую гипотезу. \\\\\n",
        "Это значит, что нет статистически значимого отклонения от нормы (8 часов сна) до приёма снотворного, и продолжительность сна студентов до эксперимента была в среднем около 8 часов.\n",
        "\n"
      ],
      "metadata": {
        "id": "Rxtsv3PEmnGi"
      },
      "id": "Rxtsv3PEmnGi"
    },
    {
      "cell_type": "markdown",
      "id": "b979e7e1",
      "metadata": {
        "id": "b979e7e1"
      },
      "source": [
        "Правда ли, что благодаря таблеткам студенты стали спать больше (односторонняя альтернатива)? Запишите в переменную `pval2` соотвествующее p-значение."
      ]
    },
    {
      "cell_type": "markdown",
      "source": [
        "**Гипотеза**: \\\\\n",
        "Нулевая гипотеза (H0): Таблетки не изменяют среднюю продолжительность сна (среднее отклонение до и после равно). \\\\\n",
        "Альтернативная гипотеза (H1): Таблетки увеличивают продолжительность сна (среднее отклонение после больше, чем до). \\\\\n",
        "Для этой задачи у нас две зависимые выборки (сон до и после приёма таблеток), и мы проверяем одностороннюю гипотезу о росте. Подходящим методом будет **парный t-тест с односторонней альтернативой**."
      ],
      "metadata": {
        "id": "NA0WaoYicW_x"
      },
      "id": "NA0WaoYicW_x"
    },
    {
      "cell_type": "code",
      "execution_count": 11,
      "id": "dea8f470",
      "metadata": {
        "id": "dea8f470",
        "colab": {
          "base_uri": "https://localhost:8080/"
        },
        "outputId": "b5b5e452-6592-470a-b3e5-c30b924654b2"
      },
      "outputs": [
        {
          "output_type": "stream",
          "name": "stdout",
          "text": [
            "T-статистика: 4.062127683382037\n",
            "P-значение: 0.001416445098692135\n",
            "Мы отвергаем нулевую гипотезу: Таблетки увеличивают продолжительность сна.\n"
          ]
        }
      ],
      "source": [
        "# Проверка гипотезы для разницы до и после приема снотворного\n",
        "tobs2, pval2 = sts.ttest_rel(group2, group1)\n",
        "\n",
        "# Для односторонней проверки нужно учесть направление\n",
        "if tobs2 > 0:\n",
        "    pval2 /= 2\n",
        "else:\n",
        "    pval2 = 1 - (pval2 / 2)\n",
        "\n",
        "print(f\"T-статистика: {tobs2}\")\n",
        "print(f\"P-значение: {pval2}\")\n",
        "if pval2 < 0.05:  # Здесь исправлено pval1 на pval2\n",
        "    print(\"Мы отвергаем нулевую гипотезу: Таблетки увеличивают продолжительность сна.\")\n",
        "else:\n",
        "    print(\"Мы не можем отвергнуть нулевую гипотезу: Таблетки не изменяют среднюю продолжительность сна.\")\n",
        "\n"
      ]
    },
    {
      "cell_type": "code",
      "execution_count": 12,
      "id": "5f6b72f9",
      "metadata": {
        "id": "5f6b72f9"
      },
      "outputs": [],
      "source": [
        "# самопроверка\n",
        "assert np.abs(tobs1 - 1.325710) < 1e-5\n",
        "assert np.abs(tobs2 - 4.062127) < 1e-5"
      ]
    },
    {
      "cell_type": "markdown",
      "source": [
        "**Вывод**: \\\\\n",
        "В данном случае p-значение значительно меньше уровня значимости α = 0.05. Таким образом, мы отвергаем нулевую гипотезу и принимаем альтернативную гипотезу, что приём снотворного статистически значимо увеличивает продолжительность сна."
      ],
      "metadata": {
        "id": "5GvRItSWnu3_"
      },
      "id": "5GvRItSWnu3_"
    },
    {
      "cell_type": "markdown",
      "source": [
        "**Итоговые выводы:**\n",
        "До приёма снотворного: Продолжительность сна студентов не отличается статистически значимо от нормы (8 часов), что говорит о нормальном сне до эксперимента. \\\\\n",
        "После приёма снотворного: Снотворное привело к значительному увеличению продолжительности сна, что подтверждено статистически значимым результатом. Уровень значимости α = 0.05 указывает на вероятность 5%, что мы могли бы ошибочно отвергнуть нулевую гипотезу. Однако, с таким малым p-значением, вероятность ошибки крайне мала, и результат считается надежным. \\\\"
      ],
      "metadata": {
        "id": "lLehG5_jpMdq"
      },
      "id": "lLehG5_jpMdq"
    },
    {
      "cell_type": "markdown",
      "id": "bd399171",
      "metadata": {
        "id": "bd399171"
      },
      "source": [
        "## Задание 3 (мыши и зеркало)\n",
        "\n",
        "$16$ лабораторных мышей были помещены в двухкомнатные клетки, в одной из комнат висело зеркало. С целью установить, есть ли у мышей какие-то предпочтения насчет зеркал, измерялась доля времени, которое каждая мышь проводила в каждой из своих двух клеток.\n",
        "\n",
        "![](https://ars.els-cdn.com/content/image/1-s2.0-S0168159104000061-gr1.gif)\n",
        "\n",
        "В файле `mouses_mirror.txt` лежит информация о том, какую долю времени мышка проводила в клетке с зеркалом."
      ]
    },
    {
      "cell_type": "code",
      "execution_count": 13,
      "id": "8796d379",
      "metadata": {
        "id": "8796d379",
        "colab": {
          "base_uri": "https://localhost:8080/",
          "height": 430
        },
        "outputId": "90d6d978-cf8f-43f0-c805-2927da8b67b0"
      },
      "outputs": [
        {
          "output_type": "display_data",
          "data": {
            "text/plain": [
              "<Figure size 640x480 with 1 Axes>"
            ],
            "image/png": "[encoded data removed]"
          },
          "metadata": {}
        }
      ],
      "source": [
        "x = pd.read_csv('https://raw.githubusercontent.com/aiedu-courses/all_datasets/main/mouses_mirror.txt', header = None)[0].values\n",
        "plt.hist(x, density=True);"
      ]
    },
    {
      "cell_type": "markdown",
      "id": "a696207c",
      "metadata": {
        "id": "a696207c"
      },
      "source": [
        "Проверьте гипотезу о том, что мышкам безразлично в какой комнате проводить время с помощью теста Вилкоксона. Сформулируйте нулевую гипотезу, перечислите основные особенности этого критерия.  Запишите в переменную `pvalue_2` получившееся в результате этого $p$-значение."
      ]
    },
    {
      "cell_type": "markdown",
      "source": [
        "**Гипотеза**: \\\\\n",
        "Нулевая гипотеза (H0): Мышам безразлично, в какой комнате проводить время, что означает, что медиана доли времени, проведённого в комнате с зеркалом, равна 0.5. \\\\\n",
        "Альтернативная гипотеза (H1): Мыши предпочитают проводить больше или меньше времени в комнате с зеркалом, чем в комнате без зеркала, что означает отклонение медианы доли времени от 0.5. \\\\\n",
        "Для проверки гипотезы применим тест Вилкоксона к данным, где будем сравнивать долю времени, проведённого мышами в комнате с зеркалом, с теоретическим значением 0.5.  \\\\\n",
        "Критерии теста:\n",
        "Непараметрический тест: Тест Вилкоксона используется для проверки разницы между медианами двух связанных выборок. Он не требует нормальности данных и является альтернативой парному t-тесту для ненормально распределённых данных.\n",
        "Использование для связанных выборок: Тест применяется, когда данные взяты из одного и того же набора объектов, в данном случае — измерения доли времени, проведённого мышами в комнате с зеркалом.\n",
        "Медианное значение: Тест проверяет, существует ли статистически значимая разница между медианами двух распределений."
      ],
      "metadata": {
        "id": "G85TiTwt2A9V"
      },
      "id": "G85TiTwt2A9V"
    },
    {
      "cell_type": "code",
      "execution_count": 14,
      "id": "49371478",
      "metadata": {
        "id": "49371478",
        "colab": {
          "base_uri": "https://localhost:8080/"
        },
        "outputId": "f46c8b22-8123-4103-d5c5-ebd2f72bbe0c"
      },
      "outputs": [
        {
          "output_type": "stream",
          "name": "stdout",
          "text": [
            "T-статистика: 35.0\n",
            "P-значение: 0.09344482421875\n",
            "Мы не можем отвергнуть нулевую гипотезу: мышам безразлично, проводить время в комнате с зеркалом или без него.\n"
          ]
        }
      ],
      "source": [
        "w, pvalue_2 = sts.wilcoxon(x - 0.5, alternative='two-sided')\n",
        "\n",
        "print(f\"T-статистика: {w}\")\n",
        "print(f\"P-значение: {pvalue_2}\")\n",
        "\n",
        "# Интерпретация результата\n",
        "alpha = 0.05\n",
        "if pvalue_2 < alpha:\n",
        "    print(\"Мы отвергаем нулевую гипотезу: мыши проявляют предпочтение в отношении зеркала.\")\n",
        "else:\n",
        "    print(\"Мы не можем отвергнуть нулевую гипотезу: мышам безразлично, проводить время в комнате с зеркалом или без него.\")"
      ]
    },
    {
      "cell_type": "markdown",
      "source": [
        "**Вывод:** \\\\\n",
        "Поскольку p-значение (0.093) больше уровня значимости (0.05), мы не отвергаем нулевую гипотезу. Это означает, что нет статистически значимых доказательств отклонения медианы доли времени, проведённого мышами в комнате с зеркалом, от 0.5. \\\\\n",
        "Таким образом, экспериментальные данные не предоставляют достаточных оснований для утверждения, что мыши проявляют предпочтение относительно комнаты с зеркалом."
      ],
      "metadata": {
        "id": "CxD4FxfD3QMK"
      },
      "id": "CxD4FxfD3QMK"
    },
    {
      "cell_type": "markdown",
      "id": "c86523d5",
      "metadata": {
        "id": "c86523d5"
      },
      "source": [
        "Проверьте гипотезу о том, что мышкам безразлично в какой комнате проводить время с помощью асимптотического $z$-теста. Сформулируйте нулевую гипотезу, перечислите основные особенности этого критерия.  Запишите в переменную `pvalue_3` получившееся в результате этого $p$-значение."
      ]
    },
    {
      "cell_type": "markdown",
      "source": [
        "**Гипотеза**: \\\\\n",
        "Нулевая гипотеза (H0): Мышам безразлично, в какой комнате проводить время, что означает, что средняя доля времени, проведённого в комнате с зеркалом, равна 0.5. \\\\\n",
        "Альтернативная гипотеза (H1): Мыши проявляют предпочтение, проводя больше или меньше времени в комнате с зеркалом, чем в комнате без зеркала (средняя доля времени отклоняется от 0.5). \\\\\n",
        "Основные особенности асимптотического z-теста; \\\\\n",
        "Параметрический тест: z-тест используется для проверки гипотезы о равенстве среднего значения выборки с известным средним в популяции, если известно стандартное отклонение или его оценка.\n",
        "Асимптотический характер: Тест основывается на нормальном распределении, которое становится хорошим приближением распределения выборочного среднего для больших выборок, благодаря центральной предельной теореме.\n",
        "Тестирование средних: Применяется для проверки равенства среднего значения выборки с известным или гипотетическим значением в популяции."
      ],
      "metadata": {
        "id": "leKTi1Ua3lBv"
      },
      "id": "leKTi1Ua3lBv"
    },
    {
      "cell_type": "code",
      "execution_count": 15,
      "id": "1a1a6be6",
      "metadata": {
        "id": "1a1a6be6",
        "colab": {
          "base_uri": "https://localhost:8080/"
        },
        "outputId": "5a0c67f9-65ac-4291-eef0-289ef59c5b14"
      },
      "outputs": [
        {
          "output_type": "stream",
          "name": "stdout",
          "text": [
            "-1.4961782502486842\n",
            "0.13460721078205806\n",
            "Не отвергаем нулевую гипотезу: мышам безразлично, в какой комнате проводить время.\n"
          ]
        }
      ],
      "source": [
        "from statsmodels.stats.weightstats import ztest, zconfint\n",
        "\n",
        "z_stat, pvalue_3 = ztest(x, value=0.5)\n",
        "print(z_stat)\n",
        "print(pvalue_3)\n",
        "\n",
        "if pvalue_3 < 0.05:\n",
        "    print(\"Отвергаем нулевую гипотезу: мышам не безразлично, в какой комнате проводить время.\")\n",
        "else:\n",
        "    print(\"Не отвергаем нулевую гипотезу: мышам безразлично, в какой комнате проводить время.\")"
      ]
    },
    {
      "cell_type": "markdown",
      "source": [
        "**Вывод**: \\\\\n",
        "Поскольку p-значение больше 0.05, мы не отвергаем нулевую гипотезу. Это означает, что у нас нет достаточно оснований утверждать, что мышам не безразлично, в какой комнате проводить время. Следовательно, можно заключить, что мышам действительно безразлично, в какой комнате проводить время."
      ],
      "metadata": {
        "id": "1NpLCvTJ8n3r"
      },
      "id": "1NpLCvTJ8n3r"
    },
    {
      "cell_type": "code",
      "execution_count": 16,
      "id": "135a7e69",
      "metadata": {
        "id": "135a7e69"
      },
      "outputs": [],
      "source": [
        "# проверка того, что задание решено верно\n",
        "assert pvalue_2 > 0.05\n",
        "assert pvalue_3 > 0.05"
      ]
    },
    {
      "cell_type": "markdown",
      "source": [
        "**Вывод:** \\\\\n",
        "Тест Вилкоксона не показывает значимого отклонения, так как учитывает как направления, так и величины разностей -> более мощный, чем критерий знаков. \\\\\n",
        "Асимптотический z-тест не показывает значимого отклонения, он предполагает нормальное распределение данных и может быть мощным, если это предположение выполняется.  \\\\\n",
        "-> Различия в 𝑝-значениях между тестами объясняются различиями в их методологии и предположениях о данных."
      ],
      "metadata": {
        "id": "6fnLP03SCfvC"
      },
      "id": "6fnLP03SCfvC"
    },
    {
      "cell_type": "markdown",
      "id": "13b27ac4",
      "metadata": {
        "id": "13b27ac4"
      },
      "source": [
        "Объясните, почему `pvalue` от теста к тесту ведёт себя именно так. Подробнее про опыт с мышками читайте [в оригинальном исследовании.](https://www.sciencedirect.com/science/article/abs/pii/S0168159104000061)\n"
      ]
    },
    {
      "cell_type": "markdown",
      "source": [
        "## Задание 4 (транзакции клиентов)\n",
        "\n",
        "Для увеличения конверсии мы хотим переименовать кнопку \"Subscribe now!\" на сайте в \"Keep me updated\".\n",
        "\n",
        "Данные о результатах A/B-теста находятся в таблице `a_b_test`. В колонке `transaction` для каждого клиента указано, кликнул он по кнопке или нет.\n",
        "\n",
        "Оцените эффект от изменения названия кнопки.\n",
        "\n"
      ],
      "metadata": {
        "id": "Yq8beINCCQos"
      },
      "id": "Yq8beINCCQos"
    },
    {
      "cell_type": "code",
      "source": [
        "a_b_test = pd.read_csv(\"https://raw.githubusercontent.com/aiedu-courses/all_datasets/main/ClientsTransactions.csv\")\n",
        "\n",
        "a_b_test.head()"
      ],
      "metadata": {
        "id": "pJk8x7FaCSeX",
        "colab": {
          "base_uri": "https://localhost:8080/",
          "height": 206
        },
        "outputId": "5343fc06-e7e5-4110-9c85-c4e45b10d2a8"
      },
      "id": "pJk8x7FaCSeX",
      "execution_count": 17,
      "outputs": [
        {
          "output_type": "execute_result",
          "data": {
            "text/plain": [
              "  group  transaction\n",
              "0     B            0\n",
              "1     B            0\n",
              "2     A            0\n",
              "3     B            0\n",
              "4     A            0"
            ],
            "text/html": [
              "\n",
              "  <div id=\"df-c25c24c1-4aec-4c8e-a08f-48bd5eb2613a\" class=\"colab-df-container\">\n",
              "    <div>\n",
              "<style scoped>\n",
              "    .dataframe tbody tr th:only-of-type {\n",
              "        vertical-align: middle;\n",
              "    }\n",
              "\n",
              "    .dataframe tbody tr th {\n",
              "        vertical-align: top;\n",
              "    }\n",
              "\n",
              "    .dataframe thead th {\n",
              "        text-align: right;\n",
              "    }\n",
              "</style>\n",
              "<table border=\"1\" class=\"dataframe\">\n",
              "  <thead>\n",
              "    <tr style=\"text-align: right;\">\n",
              "      <th></th>\n",
              "      <th>group</th>\n",
              "      <th>transaction</th>\n",
              "    </tr>\n",
              "  </thead>\n",
              "  <tbody>\n",
              "    <tr>\n",
              "      <th>0</th>\n",
              "      <td>B</td>\n",
              "      <td>0</td>\n",
              "    </tr>\n",
              "    <tr>\n",
              "      <th>1</th>\n",
              "      <td>B</td>\n",
              "      <td>0</td>\n",
              "    </tr>\n",
              "    <tr>\n",
              "      <th>2</th>\n",
              "      <td>A</td>\n",
              "      <td>0</td>\n",
              "    </tr>\n",
              "    <tr>\n",
              "      <th>3</th>\n",
              "      <td>B</td>\n",
              "      <td>0</td>\n",
              "    </tr>\n",
              "    <tr>\n",
              "      <th>4</th>\n",
              "      <td>A</td>\n",
              "      <td>0</td>\n",
              "    </tr>\n",
              "  </tbody>\n",
              "</table>\n",
              "</div>\n",
              "    <div class=\"colab-df-buttons\">\n",
              "\n",
              "  <div class=\"colab-df-container\">\n",
              "    <button class=\"colab-df-convert\" onclick=\"convertToInteractive('df-c25c24c1-4aec-4c8e-a08f-48bd5eb2613a')\"\n",
              "            title=\"Convert this dataframe to an interactive table.\"\n",
              "            style=\"display:none;\">\n",
              "\n",
              "  <svg xmlns=\"http://www.w3.org/2000/svg\" height=\"24px\" viewBox=\"0 -960 960 960\">\n",
              "    <path d=\"M120-120v-720h720v720H120Zm60-500h600v-160H180v160Zm220 220h160v-160H400v160Zm0 220h160v-160H400v160ZM180-400h160v-160H180v160Zm440 0h160v-160H620v160ZM180-180h160v-160H180v160Zm440 0h160v-160H620v160Z\"/>\n",
              "  </svg>\n",
              "    </button>\n",
              "\n",
              "  <style>\n",
              "    .colab-df-container {\n",
              "      display:flex;\n",
              "      gap: 12px;\n",
              "    }\n",
              "\n",
              "    .colab-df-convert {\n",
              "      background-color: #E8F0FE;\n",
              "      border: none;\n",
              "      border-radius: 50%;\n",
              "      cursor: pointer;\n",
              "      display: none;\n",
              "      fill: #1967D2;\n",
              "      height: 32px;\n",
              "      padding: 0 0 0 0;\n",
              "      width: 32px;\n",
              "    }\n",
              "\n",
              "    .colab-df-convert:hover {\n",
              "      background-color: #E2EBFA;\n",
              "      box-shadow: 0px 1px 2px rgba(60, 64, 67, 0.3), 0px 1px 3px 1px rgba(60, 64, 67, 0.15);\n",
              "      fill: #174EA6;\n",
              "    }\n",
              "\n",
              "    .colab-df-buttons div {\n",
              "      margin-bottom: 4px;\n",
              "    }\n",
              "\n",
              "    [theme=dark] .colab-df-convert {\n",
              "      background-color: #3B4455;\n",
              "      fill: #D2E3FC;\n",
              "    }\n",
              "\n",
              "    [theme=dark] .colab-df-convert:hover {\n",
              "      background-color: #434B5C;\n",
              "      box-shadow: 0px 1px 3px 1px rgba(0, 0, 0, 0.15);\n",
              "      filter: drop-shadow(0px 1px 2px rgba(0, 0, 0, 0.3));\n",
              "      fill: #FFFFFF;\n",
              "    }\n",
              "  </style>\n",
              "\n",
              "    <script>\n",
              "      const buttonEl =\n",
              "        document.querySelector('#df-c25c24c1-4aec-4c8e-a08f-48bd5eb2613a button.colab-df-convert');\n",
              "      buttonEl.style.display =\n",
              "        google.colab.kernel.accessAllowed ? 'block' : 'none';\n",
              "\n",
              "      async function convertToInteractive(key) {\n",
              "        const element = document.querySelector('#df-c25c24c1-4aec-4c8e-a08f-48bd5eb2613a');\n",
              "        const dataTable =\n",
              "          await google.colab.kernel.invokeFunction('convertToInteractive',\n",
              "                                                    [key], {});\n",
              "        if (!dataTable) return;\n",
              "\n",
              "        const docLinkHtml = 'Like what you see? Visit the ' +\n",
              "          '<a target=\"_blank\" href=https://colab.research.google.com/notebooks/data_table.ipynb>data table notebook</a>'\n",
              "          + ' to learn more about interactive tables.';\n",
              "        element.innerHTML = '';\n",
              "        dataTable['output_type'] = 'display_data';\n",
              "        await google.colab.output.renderOutput(dataTable, element);\n",
              "        const docLink = document.createElement('div');\n",
              "        docLink.innerHTML = docLinkHtml;\n",
              "        element.appendChild(docLink);\n",
              "      }\n",
              "    </script>\n",
              "  </div>\n",
              "\n",
              "\n",
              "<div id=\"df-1a748c26-9e74-43d9-869c-9ca4e10d1813\">\n",
              "  <button class=\"colab-df-quickchart\" onclick=\"quickchart('df-1a748c26-9e74-43d9-869c-9ca4e10d1813')\"\n",
              "            title=\"Suggest charts\"\n",
              "            style=\"display:none;\">\n",
              "\n",
              "<svg xmlns=\"http://www.w3.org/2000/svg\" height=\"24px\"viewBox=\"0 0 24 24\"\n",
              "     width=\"24px\">\n",
              "    <g>\n",
              "        <path d=\"M19 3H5c-1.1 0-2 .9-2 2v14c0 1.1.9 2 2 2h14c1.1 0 2-.9 2-2V5c0-1.1-.9-2-2-2zM9 17H7v-7h2v7zm4 0h-2V7h2v10zm4 0h-2v-4h2v4z\"/>\n",
              "    </g>\n",
              "</svg>\n",
              "  </button>\n",
              "\n",
              "<style>\n",
              "  .colab-df-quickchart {\n",
              "      --bg-color: #E8F0FE;\n",
              "      --fill-color: #1967D2;\n",
              "      --hover-bg-color: #E2EBFA;\n",
              "      --hover-fill-color: #174EA6;\n",
              "      --disabled-fill-color: #AAA;\n",
              "      --disabled-bg-color: #DDD;\n",
              "  }\n",
              "\n",
              "  [theme=dark] .colab-df-quickchart {\n",
              "      --bg-color: #3B4455;\n",
              "      --fill-color: #D2E3FC;\n",
              "      --hover-bg-color: #434B5C;\n",
              "      --hover-fill-color: #FFFFFF;\n",
              "      --disabled-bg-color: #3B4455;\n",
              "      --disabled-fill-color: #666;\n",
              "  }\n",
              "\n",
              "  .colab-df-quickchart {\n",
              "    background-color: var(--bg-color);\n",
              "    border: none;\n",
              "    border-radius: 50%;\n",
              "    cursor: pointer;\n",
              "    display: none;\n",
              "    fill: var(--fill-color);\n",
              "    height: 32px;\n",
              "    padding: 0;\n",
              "    width: 32px;\n",
              "  }\n",
              "\n",
              "  .colab-df-quickchart:hover {\n",
              "    background-color: var(--hover-bg-color);\n",
              "    box-shadow: 0 1px 2px rgba(60, 64, 67, 0.3), 0 1px 3px 1px rgba(60, 64, 67, 0.15);\n",
              "    fill: var(--button-hover-fill-color);\n",
              "  }\n",
              "\n",
              "  .colab-df-quickchart-complete:disabled,\n",
              "  .colab-df-quickchart-complete:disabled:hover {\n",
              "    background-color: var(--disabled-bg-color);\n",
              "    fill: var(--disabled-fill-color);\n",
              "    box-shadow: none;\n",
              "  }\n",
              "\n",
              "  .colab-df-spinner {\n",
              "    border: 2px solid var(--fill-color);\n",
              "    border-color: transparent;\n",
              "    border-bottom-color: var(--fill-color);\n",
              "    animation:\n",
              "      spin 1s steps(1) infinite;\n",
              "  }\n",
              "\n",
              "  @keyframes spin {\n",
              "    0% {\n",
              "      border-color: transparent;\n",
              "      border-bottom-color: var(--fill-color);\n",
              "      border-left-color: var(--fill-color);\n",
              "    }\n",
              "    20% {\n",
              "      border-color: transparent;\n",
              "      border-left-color: var(--fill-color);\n",
              "      border-top-color: var(--fill-color);\n",
              "    }\n",
              "    30% {\n",
              "      border-color: transparent;\n",
              "      border-left-color: var(--fill-color);\n",
              "      border-top-color: var(--fill-color);\n",
              "      border-right-color: var(--fill-color);\n",
              "    }\n",
              "    40% {\n",
              "      border-color: transparent;\n",
              "      border-right-color: var(--fill-color);\n",
              "      border-top-color: var(--fill-color);\n",
              "    }\n",
              "    60% {\n",
              "      border-color: transparent;\n",
              "      border-right-color: var(--fill-color);\n",
              "    }\n",
              "    80% {\n",
              "      border-color: transparent;\n",
              "      border-right-color: var(--fill-color);\n",
              "      border-bottom-color: var(--fill-color);\n",
              "    }\n",
              "    90% {\n",
              "      border-color: transparent;\n",
              "      border-bottom-color: var(--fill-color);\n",
              "    }\n",
              "  }\n",
              "</style>\n",
              "\n",
              "  <script>\n",
              "    async function quickchart(key) {\n",
              "      const quickchartButtonEl =\n",
              "        document.querySelector('#' + key + ' button');\n",
              "      quickchartButtonEl.disabled = true;  // To prevent multiple clicks.\n",
              "      quickchartButtonEl.classList.add('colab-df-spinner');\n",
              "      try {\n",
              "        const charts = await google.colab.kernel.invokeFunction(\n",
              "            'suggestCharts', [key], {});\n",
              "      } catch (error) {\n",
              "        console.error('Error during call to suggestCharts:', error);\n",
              "      }\n",
              "      quickchartButtonEl.classList.remove('colab-df-spinner');\n",
              "      quickchartButtonEl.classList.add('colab-df-quickchart-complete');\n",
              "    }\n",
              "    (() => {\n",
              "      let quickchartButtonEl =\n",
              "        document.querySelector('#df-1a748c26-9e74-43d9-869c-9ca4e10d1813 button');\n",
              "      quickchartButtonEl.style.display =\n",
              "        google.colab.kernel.accessAllowed ? 'block' : 'none';\n",
              "    })();\n",
              "  </script>\n",
              "</div>\n",
              "    </div>\n",
              "  </div>\n"
            ],
            "application/vnd.google.colaboratory.intrinsic+json": {
              "type": "dataframe",
              "variable_name": "a_b_test",
              "summary": "{\n  \"name\": \"a_b_test\",\n  \"rows\": 4398,\n  \"fields\": [\n    {\n      \"column\": \"group\",\n      \"properties\": {\n        \"dtype\": \"category\",\n        \"num_unique_values\": 2,\n        \"samples\": [\n          \"A\",\n          \"B\"\n        ],\n        \"semantic_type\": \"\",\n        \"description\": \"\"\n      }\n    },\n    {\n      \"column\": \"transaction\",\n      \"properties\": {\n        \"dtype\": \"number\",\n        \"std\": 0,\n        \"min\": 0,\n        \"max\": 1,\n        \"num_unique_values\": 2,\n        \"samples\": [\n          1,\n          0\n        ],\n        \"semantic_type\": \"\",\n        \"description\": \"\"\n      }\n    }\n  ]\n}"
            }
          },
          "metadata": {},
          "execution_count": 17
        }
      ]
    },
    {
      "cell_type": "markdown",
      "source": [
        "Создайте summary_table. Код должен иметь структуру (названия колонок, строк и их количество) как на таблице со скриншота."
      ],
      "metadata": {
        "id": "1yiE3xmWDe2U"
      },
      "id": "1yiE3xmWDe2U"
    },
    {
      "cell_type": "code",
      "source": [
        "summary_table = a_b_test.pivot_table(index='group', columns='transaction', aggfunc='size', fill_value=0)\n",
        "summary_table.columns = ['No Click', 'Click']\n",
        "summary_table['Total'] = summary_table['No Click'] + summary_table['Click']\n",
        "summary_table['Conversion Rate'] = summary_table['Click'] / summary_table['Total']\n",
        "summary_table"
      ],
      "metadata": {
        "id": "BWPhAVUxCZy-",
        "colab": {
          "base_uri": "https://localhost:8080/",
          "height": 143
        },
        "outputId": "ee523b7a-1986-4945-d36f-4b8a7e39a33f"
      },
      "id": "BWPhAVUxCZy-",
      "execution_count": 18,
      "outputs": [
        {
          "output_type": "execute_result",
          "data": {
            "text/plain": [
              "       No Click  Click  Total  Conversion Rate\n",
              "group                                         \n",
              "A          2004     56   2060         0.027184\n",
              "B          2264     74   2338         0.031651"
            ],
            "text/html": [
              "\n",
              "  <div id=\"df-e552d4d3-9a6f-4b1e-a5ae-6fc1b0d0c8d2\" class=\"colab-df-container\">\n",
              "    <div>\n",
              "<style scoped>\n",
              "    .dataframe tbody tr th:only-of-type {\n",
              "        vertical-align: middle;\n",
              "    }\n",
              "\n",
              "    .dataframe tbody tr th {\n",
              "        vertical-align: top;\n",
              "    }\n",
              "\n",
              "    .dataframe thead th {\n",
              "        text-align: right;\n",
              "    }\n",
              "</style>\n",
              "<table border=\"1\" class=\"dataframe\">\n",
              "  <thead>\n",
              "    <tr style=\"text-align: right;\">\n",
              "      <th></th>\n",
              "      <th>No Click</th>\n",
              "      <th>Click</th>\n",
              "      <th>Total</th>\n",
              "      <th>Conversion Rate</th>\n",
              "    </tr>\n",
              "    <tr>\n",
              "      <th>group</th>\n",
              "      <th></th>\n",
              "      <th></th>\n",
              "      <th></th>\n",
              "      <th></th>\n",
              "    </tr>\n",
              "  </thead>\n",
              "  <tbody>\n",
              "    <tr>\n",
              "      <th>A</th>\n",
              "      <td>2004</td>\n",
              "      <td>56</td>\n",
              "      <td>2060</td>\n",
              "      <td>0.027184</td>\n",
              "    </tr>\n",
              "    <tr>\n",
              "      <th>B</th>\n",
              "      <td>2264</td>\n",
              "      <td>74</td>\n",
              "      <td>2338</td>\n",
              "      <td>0.031651</td>\n",
              "    </tr>\n",
              "  </tbody>\n",
              "</table>\n",
              "</div>\n",
              "    <div class=\"colab-df-buttons\">\n",
              "\n",
              "  <div class=\"colab-df-container\">\n",
              "    <button class=\"colab-df-convert\" onclick=\"convertToInteractive('df-e552d4d3-9a6f-4b1e-a5ae-6fc1b0d0c8d2')\"\n",
              "            title=\"Convert this dataframe to an interactive table.\"\n",
              "            style=\"display:none;\">\n",
              "\n",
              "  <svg xmlns=\"http://www.w3.org/2000/svg\" height=\"24px\" viewBox=\"0 -960 960 960\">\n",
              "    <path d=\"M120-120v-720h720v720H120Zm60-500h600v-160H180v160Zm220 220h160v-160H400v160Zm0 220h160v-160H400v160ZM180-400h160v-160H180v160Zm440 0h160v-160H620v160ZM180-180h160v-160H180v160Zm440 0h160v-160H620v160Z\"/>\n",
              "  </svg>\n",
              "    </button>\n",
              "\n",
              "  <style>\n",
              "    .colab-df-container {\n",
              "      display:flex;\n",
              "      gap: 12px;\n",
              "    }\n",
              "\n",
              "    .colab-df-convert {\n",
              "      background-color: #E8F0FE;\n",
              "      border: none;\n",
              "      border-radius: 50%;\n",
              "      cursor: pointer;\n",
              "      display: none;\n",
              "      fill: #1967D2;\n",
              "      height: 32px;\n",
              "      padding: 0 0 0 0;\n",
              "      width: 32px;\n",
              "    }\n",
              "\n",
              "    .colab-df-convert:hover {\n",
              "      background-color: #E2EBFA;\n",
              "      box-shadow: 0px 1px 2px rgba(60, 64, 67, 0.3), 0px 1px 3px 1px rgba(60, 64, 67, 0.15);\n",
              "      fill: #174EA6;\n",
              "    }\n",
              "\n",
              "    .colab-df-buttons div {\n",
              "      margin-bottom: 4px;\n",
              "    }\n",
              "\n",
              "    [theme=dark] .colab-df-convert {\n",
              "      background-color: #3B4455;\n",
              "      fill: #D2E3FC;\n",
              "    }\n",
              "\n",
              "    [theme=dark] .colab-df-convert:hover {\n",
              "      background-color: #434B5C;\n",
              "      box-shadow: 0px 1px 3px 1px rgba(0, 0, 0, 0.15);\n",
              "      filter: drop-shadow(0px 1px 2px rgba(0, 0, 0, 0.3));\n",
              "      fill: #FFFFFF;\n",
              "    }\n",
              "  </style>\n",
              "\n",
              "    <script>\n",
              "      const buttonEl =\n",
              "        document.querySelector('#df-e552d4d3-9a6f-4b1e-a5ae-6fc1b0d0c8d2 button.colab-df-convert');\n",
              "      buttonEl.style.display =\n",
              "        google.colab.kernel.accessAllowed ? 'block' : 'none';\n",
              "\n",
              "      async function convertToInteractive(key) {\n",
              "        const element = document.querySelector('#df-e552d4d3-9a6f-4b1e-a5ae-6fc1b0d0c8d2');\n",
              "        const dataTable =\n",
              "          await google.colab.kernel.invokeFunction('convertToInteractive',\n",
              "                                                    [key], {});\n",
              "        if (!dataTable) return;\n",
              "\n",
              "        const docLinkHtml = 'Like what you see? Visit the ' +\n",
              "          '<a target=\"_blank\" href=https://colab.research.google.com/notebooks/data_table.ipynb>data table notebook</a>'\n",
              "          + ' to learn more about interactive tables.';\n",
              "        element.innerHTML = '';\n",
              "        dataTable['output_type'] = 'display_data';\n",
              "        await google.colab.output.renderOutput(dataTable, element);\n",
              "        const docLink = document.createElement('div');\n",
              "        docLink.innerHTML = docLinkHtml;\n",
              "        element.appendChild(docLink);\n",
              "      }\n",
              "    </script>\n",
              "  </div>\n",
              "\n",
              "\n",
              "<div id=\"df-8ae922f7-f94a-490f-8f2b-afd1df233b7d\">\n",
              "  <button class=\"colab-df-quickchart\" onclick=\"quickchart('df-8ae922f7-f94a-490f-8f2b-afd1df233b7d')\"\n",
              "            title=\"Suggest charts\"\n",
              "            style=\"display:none;\">\n",
              "\n",
              "<svg xmlns=\"http://www.w3.org/2000/svg\" height=\"24px\"viewBox=\"0 0 24 24\"\n",
              "     width=\"24px\">\n",
              "    <g>\n",
              "        <path d=\"M19 3H5c-1.1 0-2 .9-2 2v14c0 1.1.9 2 2 2h14c1.1 0 2-.9 2-2V5c0-1.1-.9-2-2-2zM9 17H7v-7h2v7zm4 0h-2V7h2v10zm4 0h-2v-4h2v4z\"/>\n",
              "    </g>\n",
              "</svg>\n",
              "  </button>\n",
              "\n",
              "<style>\n",
              "  .colab-df-quickchart {\n",
              "      --bg-color: #E8F0FE;\n",
              "      --fill-color: #1967D2;\n",
              "      --hover-bg-color: #E2EBFA;\n",
              "      --hover-fill-color: #174EA6;\n",
              "      --disabled-fill-color: #AAA;\n",
              "      --disabled-bg-color: #DDD;\n",
              "  }\n",
              "\n",
              "  [theme=dark] .colab-df-quickchart {\n",
              "      --bg-color: #3B4455;\n",
              "      --fill-color: #D2E3FC;\n",
              "      --hover-bg-color: #434B5C;\n",
              "      --hover-fill-color: #FFFFFF;\n",
              "      --disabled-bg-color: #3B4455;\n",
              "      --disabled-fill-color: #666;\n",
              "  }\n",
              "\n",
              "  .colab-df-quickchart {\n",
              "    background-color: var(--bg-color);\n",
              "    border: none;\n",
              "    border-radius: 50%;\n",
              "    cursor: pointer;\n",
              "    display: none;\n",
              "    fill: var(--fill-color);\n",
              "    height: 32px;\n",
              "    padding: 0;\n",
              "    width: 32px;\n",
              "  }\n",
              "\n",
              "  .colab-df-quickchart:hover {\n",
              "    background-color: var(--hover-bg-color);\n",
              "    box-shadow: 0 1px 2px rgba(60, 64, 67, 0.3), 0 1px 3px 1px rgba(60, 64, 67, 0.15);\n",
              "    fill: var(--button-hover-fill-color);\n",
              "  }\n",
              "\n",
              "  .colab-df-quickchart-complete:disabled,\n",
              "  .colab-df-quickchart-complete:disabled:hover {\n",
              "    background-color: var(--disabled-bg-color);\n",
              "    fill: var(--disabled-fill-color);\n",
              "    box-shadow: none;\n",
              "  }\n",
              "\n",
              "  .colab-df-spinner {\n",
              "    border: 2px solid var(--fill-color);\n",
              "    border-color: transparent;\n",
              "    border-bottom-color: var(--fill-color);\n",
              "    animation:\n",
              "      spin 1s steps(1) infinite;\n",
              "  }\n",
              "\n",
              "  @keyframes spin {\n",
              "    0% {\n",
              "      border-color: transparent;\n",
              "      border-bottom-color: var(--fill-color);\n",
              "      border-left-color: var(--fill-color);\n",
              "    }\n",
              "    20% {\n",
              "      border-color: transparent;\n",
              "      border-left-color: var(--fill-color);\n",
              "      border-top-color: var(--fill-color);\n",
              "    }\n",
              "    30% {\n",
              "      border-color: transparent;\n",
              "      border-left-color: var(--fill-color);\n",
              "      border-top-color: var(--fill-color);\n",
              "      border-right-color: var(--fill-color);\n",
              "    }\n",
              "    40% {\n",
              "      border-color: transparent;\n",
              "      border-right-color: var(--fill-color);\n",
              "      border-top-color: var(--fill-color);\n",
              "    }\n",
              "    60% {\n",
              "      border-color: transparent;\n",
              "      border-right-color: var(--fill-color);\n",
              "    }\n",
              "    80% {\n",
              "      border-color: transparent;\n",
              "      border-right-color: var(--fill-color);\n",
              "      border-bottom-color: var(--fill-color);\n",
              "    }\n",
              "    90% {\n",
              "      border-color: transparent;\n",
              "      border-bottom-color: var(--fill-color);\n",
              "    }\n",
              "  }\n",
              "</style>\n",
              "\n",
              "  <script>\n",
              "    async function quickchart(key) {\n",
              "      const quickchartButtonEl =\n",
              "        document.querySelector('#' + key + ' button');\n",
              "      quickchartButtonEl.disabled = true;  // To prevent multiple clicks.\n",
              "      quickchartButtonEl.classList.add('colab-df-spinner');\n",
              "      try {\n",
              "        const charts = await google.colab.kernel.invokeFunction(\n",
              "            'suggestCharts', [key], {});\n",
              "      } catch (error) {\n",
              "        console.error('Error during call to suggestCharts:', error);\n",
              "      }\n",
              "      quickchartButtonEl.classList.remove('colab-df-spinner');\n",
              "      quickchartButtonEl.classList.add('colab-df-quickchart-complete');\n",
              "    }\n",
              "    (() => {\n",
              "      let quickchartButtonEl =\n",
              "        document.querySelector('#df-8ae922f7-f94a-490f-8f2b-afd1df233b7d button');\n",
              "      quickchartButtonEl.style.display =\n",
              "        google.colab.kernel.accessAllowed ? 'block' : 'none';\n",
              "    })();\n",
              "  </script>\n",
              "</div>\n",
              "    </div>\n",
              "  </div>\n"
            ],
            "application/vnd.google.colaboratory.intrinsic+json": {
              "type": "dataframe",
              "variable_name": "summary_table",
              "summary": "{\n  \"name\": \"summary_table\",\n  \"rows\": 2,\n  \"fields\": [\n    {\n      \"column\": \"group\",\n      \"properties\": {\n        \"dtype\": \"string\",\n        \"num_unique_values\": 2,\n        \"samples\": [\n          \"B\",\n          \"A\"\n        ],\n        \"semantic_type\": \"\",\n        \"description\": \"\"\n      }\n    },\n    {\n      \"column\": \"No Click\",\n      \"properties\": {\n        \"dtype\": \"number\",\n        \"std\": 183,\n        \"min\": 2004,\n        \"max\": 2264,\n        \"num_unique_values\": 2,\n        \"samples\": [\n          2264,\n          2004\n        ],\n        \"semantic_type\": \"\",\n        \"description\": \"\"\n      }\n    },\n    {\n      \"column\": \"Click\",\n      \"properties\": {\n        \"dtype\": \"number\",\n        \"std\": 12,\n        \"min\": 56,\n        \"max\": 74,\n        \"num_unique_values\": 2,\n        \"samples\": [\n          74,\n          56\n        ],\n        \"semantic_type\": \"\",\n        \"description\": \"\"\n      }\n    },\n    {\n      \"column\": \"Total\",\n      \"properties\": {\n        \"dtype\": \"number\",\n        \"std\": 196,\n        \"min\": 2060,\n        \"max\": 2338,\n        \"num_unique_values\": 2,\n        \"samples\": [\n          2338,\n          2060\n        ],\n        \"semantic_type\": \"\",\n        \"description\": \"\"\n      }\n    },\n    {\n      \"column\": \"Conversion Rate\",\n      \"properties\": {\n        \"dtype\": \"number\",\n        \"std\": 0.0031583049733165448,\n        \"min\": 0.027184466019417475,\n        \"max\": 0.03165098374679213,\n        \"num_unique_values\": 2,\n        \"samples\": [\n          0.03165098374679213,\n          0.027184466019417475\n        ],\n        \"semantic_type\": \"\",\n        \"description\": \"\"\n      }\n    }\n  ]\n}"
            }
          },
          "metadata": {},
          "execution_count": 18
        }
      ]
    },
    {
      "cell_type": "markdown",
      "source": [
        "Отфильтруйте исходную таблицу, оставив в ней только клиентов группы А - результат назовите A_group. Создайте аналогичный объект B_group по группе B.\n",
        "\n",
        "Нарисуйте гистограмму, отображающую на одном рисунке количество успешных транзакций (кликов по кнопке) для каждой группы."
      ],
      "metadata": {
        "id": "8aOszemUD0ZO"
      },
      "id": "8aOszemUD0ZO"
    },
    {
      "cell_type": "code",
      "source": [
        "A_group = a_b_test[a_b_test['group'] == 'A']\n",
        "B_group = a_b_test[a_b_test['group'] == 'B']"
      ],
      "metadata": {
        "id": "ifOA8zagCsyG"
      },
      "id": "ifOA8zagCsyG",
      "execution_count": 19,
      "outputs": []
    },
    {
      "cell_type": "code",
      "source": [
        "successful_transactions = a_b_test[a_b_test['transaction'] == 1]\n",
        "plt.figure(figsize=(10, 6))\n",
        "sns.countplot(data=successful_transactions, x='group')\n",
        "plt.title('Number of Successful Transactions by Group')\n",
        "plt.xlabel('Group')\n",
        "plt.ylabel('Count of Successful Transactions')\n",
        "plt.show()"
      ],
      "metadata": {
        "colab": {
          "base_uri": "https://localhost:8080/",
          "height": 564
        },
        "id": "AWaUBgb-8Pwv",
        "outputId": "42e5a24f-3840-4258-b120-cac902603def"
      },
      "id": "AWaUBgb-8Pwv",
      "execution_count": 20,
      "outputs": [
        {
          "output_type": "display_data",
          "data": {
            "text/plain": [
              "<Figure size 1000x600 with 1 Axes>"
            ],
            "image/png": "[encoded data removed]"
          },
          "metadata": {}
        }
      ]
    },
    {
      "cell_type": "code",
      "source": [
        "plt.figure(figsize=(10, 6))\n",
        "sns.countplot(data=a_b_test, x='transaction', hue='group')\n",
        "plt.title('Number of Clicks by Group')\n",
        "plt.xlabel('Transaction (Click: 1, No Click: 0)')\n",
        "plt.ylabel('Count')\n",
        "plt.legend(title='Group')\n",
        "plt.show()"
      ],
      "metadata": {
        "id": "dBq0BAYBCgfp",
        "colab": {
          "base_uri": "https://localhost:8080/",
          "height": 564
        },
        "outputId": "fc1b5f0f-aad1-4d13-e94e-6c89698aaf11"
      },
      "id": "dBq0BAYBCgfp",
      "execution_count": 21,
      "outputs": [
        {
          "output_type": "display_data",
          "data": {
            "text/plain": [
              "<Figure size 1000x600 with 1 Axes>"
            ],
            "image/png": "[encoded data removed]"
          },
          "metadata": {}
        }
      ]
    },
    {
      "cell_type": "markdown",
      "source": [
        "**Гипотеза**: \\\\\n",
        "Нулевая гипотеза (H0): Изменение названия кнопки не влияет на конверсию (процент кликов одинаков для обеих групп). \\\\\n",
        "Альтернативная гипотеза (H1): Изменение названия кнопки влияет на конверсию (процент кликов отличается для двух групп). \\\\\n",
        "Поскольку у нас есть две группы и бинарные данные (клик или не клик), мы будем использовать критерий хи-квадрат для проверки независимости. Этот тест подходит для сравнения частотных данных между двумя или более независимыми группами. У на есть фактор групп и фактор 1 и 0, мы проверяем их независимость."
      ],
      "metadata": {
        "id": "QibK837cJ2Dg"
      },
      "id": "QibK837cJ2Dg"
    },
    {
      "cell_type": "code",
      "source": [
        "from scipy.stats import chi2_contingency\n",
        "contingency_table = pd.crosstab(a_b_test['group'], a_b_test['transaction'])\n",
        "print(contingency_table)\n",
        "\n",
        "# Тест хи-квадрат\n",
        "chi2, p, dof, expected = chi2_contingency(contingency_table)\n",
        "print(f\"Chi2: {chi2}, p-value: {p}\")\n",
        "\n",
        "# Шаг 4: Выводы\n",
        "if p < 0.05:\n",
        "    print(\"Отвергаем нулевую гипотезу: изменение названия кнопки влияет на конверсию.\")\n",
        "else:\n",
        "    print(\"Не отвергаем нулевую гипотезу: изменение названия кнопки не влияет на конверсию.\")"
      ],
      "metadata": {
        "id": "qrXAUt6yKDQ8",
        "colab": {
          "base_uri": "https://localhost:8080/"
        },
        "outputId": "0b9f30dc-8aaa-4b52-8906-5fe9b3e9cbb4"
      },
      "id": "qrXAUt6yKDQ8",
      "execution_count": 22,
      "outputs": [
        {
          "output_type": "stream",
          "name": "stdout",
          "text": [
            "transaction     0   1\n",
            "group                \n",
            "A            2004  56\n",
            "B            2264  74\n",
            "Chi2: 0.6138683122303483, p-value: 0.43333502878900587\n",
            "Не отвергаем нулевую гипотезу: изменение названия кнопки не влияет на конверсию.\n"
          ]
        }
      ]
    },
    {
      "cell_type": "markdown",
      "source": [
        "**Вывод**:\n",
        "Для проверки гипотезы мы использовали уровень значимости\n",
        "𝛼=0.05. Мы не отвергли нулевую гипотезу, тк p > 0.05. Cледовательно, текущее изменение текста кнопки не оказывает значительного влияния на конверсию пользователей, и, следовательно, решение о смене текста кнопки не имеет статистически значимого эффекта. \\\\"
      ],
      "metadata": {
        "id": "ACB8YQVNKnw5"
      },
      "id": "ACB8YQVNKnw5"
    },
    {
      "cell_type": "markdown",
      "source": [],
      "metadata": {
        "id": "NB4e-BeOEVT5"
      },
      "id": "NB4e-BeOEVT5"
    }
  ],
  "metadata": {
    "kernelspec": {
      "display_name": "Python 3 (ipykernel)",
      "language": "python",
      "name": "python3"
    },
    "language_info": {
      "codemirror_mode": {
        "name": "ipython",
        "version": 3
      },
      "file_extension": ".py",
      "mimetype": "text/x-python",
      "name": "python",
      "nbconvert_exporter": "python",
      "pygments_lexer": "ipython3",
      "version": "3.10.9"
    },
    "colab": {
      "provenance": [],
      "include_colab_link": true
    }
  },
  "nbformat": 4,
  "nbformat_minor": 5
}